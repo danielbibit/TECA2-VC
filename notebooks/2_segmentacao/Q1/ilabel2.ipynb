{
  "nbformat": 4,
  "nbformat_minor": 0,
  "metadata": {
    "colab": {
      "provenance": []
    },
    "kernelspec": {
      "name": "python3",
      "display_name": "Python 3"
    },
    "language_info": {
      "name": "python"
    }
  },
  "cells": [
    {
      "cell_type": "code",
      "execution_count": 1,
      "metadata": {
        "id": "XkSs5P2jAVvY"
      },
      "outputs": [],
      "source": [
        "import numpy as np\n",
        "import matplotlib.pyplot as plt"
      ]
    },
    {
      "cell_type": "code",
      "source": [
        "# ============= PART 1PART 1: READING AND PADDING THE IMAGE =====================\n",
        "    \n",
        "def countBlobs(im):\n",
        "\n",
        "  #    countBlobs Counts the number of blobs: connected regions of positive\n",
        "  #               values - and labels them.\n",
        "  #   returns:    number of blobs\n",
        "\n",
        "  # Get dimensions\n",
        "  h, w = im.shape\n",
        "  # Pad the image with a border of 1\n",
        "  im = np.pad(im, 1)\n",
        "  # labels\n",
        "  tag = 1\n",
        "  # hashmap\n",
        "  hash = {}\n",
        "  # ============= PART 2: FIRST PASS ========================================\n",
        "\n",
        "  for row in range(1, h+1):\n",
        "      for col in range(1, w+1):\n",
        "\n",
        "          # Current pixel is of interest - change 255 to 1 if it's binary.\n",
        "          if im[row, col] == 255:\n",
        "\n",
        "              neighbours = np.array([im[row, col - 1], im[row - 1, col - 1], im[row - 1, col], im[row - 1, col + 1]])\n",
        "              # all neighbours are zero: new component\n",
        "              # if nnz(neighbours) == 0 del\n",
        "              if np.count_nonzero(neighbours) == 0:\n",
        "                  im[row, col] = tag;  # give it a label\n",
        "                  tag = tag + 1;  # increment label\n",
        "\n",
        "              elif np.count_nonzero(neighbours) == 1:\n",
        "                  index = int(np.nonzero(neighbours)[0]) + 1 \n",
        "                  im[row, col] = neighbours[index - 1]  # set current pixels to neighbour's label\n",
        "\n",
        "              # more than one neighbour is non-zero - tricky part\n",
        "              else:\n",
        "                  # get non-zero indexes;\n",
        "                  indices = np.nonzero(neighbours)[0] + 1\n",
        "                  # set it to a label of the lowest number\n",
        "                  temp = np.copy(neighbours[indices - 1]) \n",
        "                  l = int(np.amin(temp))\n",
        "\n",
        "                  im[row, col] = l;\n",
        "\n",
        "                  # record equivalence classes\n",
        "                  for i in range(1, indices.size+1):\n",
        "                      templ = int(neighbours[indices[i - 1] - 1])\n",
        "\n",
        "                      s = l\n",
        "\n",
        "                      if templ != l:  # we only look at differing labels - e.g. 2->2 is not helpful\n",
        "                          if s in hash:\n",
        "                              hash[int(s)] = np.array(hash(s), templ)\n",
        "                              hash[int(s)] = np.unique(hash[s])\n",
        "                          else:\n",
        "                              hash[int(s)] = templ;\n",
        "\n",
        "  # ============= PART 3: RESTRUCTURE HASHMAP ===============================\n",
        "\n",
        "  # Handle equivalences: restructure hashmap so that no key is a value and no\n",
        "  # values is a key. Basically we don't want: 12->13 and 13->14-15. We want\n",
        "  # % it like 12->14-15.\n",
        "  array = np.array([])\n",
        "  for k in hash.keys():\n",
        "\n",
        "      if k in hash:\n",
        "\n",
        "          thekey = k\n",
        "          array = np.append(array, hash[thekey]) ###\n",
        "\n",
        "          x = 1;\n",
        "          leng = len(array)\n",
        "\n",
        "          # loop over current value array\n",
        "          while x <= leng:\n",
        "              # current value at index x\n",
        "              cur = array[x-1];\n",
        "\n",
        "              # see if value is its own key. E.g. 12->13 and also 13->14-15. The value 13 is also a key somewhere else.\n",
        "              if cur in hash:\n",
        "\n",
        "                  # get value array of that key\n",
        "                  array2 = hash(cur);\n",
        "\n",
        "                  # put all those values in current value array. Create 12->14-15\n",
        "                  array = np.append(array, array2)\n",
        "\n",
        "                  # update hashmap\n",
        "                  hash[thekey] = array;\n",
        "\n",
        "                  # update while loop stats\n",
        "                  x = 1;\n",
        "                  leng = len(array);\n",
        "\n",
        "                  # remove this key\n",
        "                  hash.pop(cur, None)\n",
        "              else:\n",
        "                  x = x + 1;\n",
        "\n",
        "  newhash = {}\n",
        "\n",
        "  varray = np.array([])\n",
        "  for k in hash.keys():\n",
        "      varray = np.append(varray,hash[k])\n",
        "      print('test')\n",
        "      for i in range(1):\n",
        "          newhash[varray[i]] = k\n",
        "\n",
        "\n",
        "  # ============= PART 4: REMOVE PADDING ====================================\n",
        "\n",
        "  # Remove padding from image\n",
        "  im = im[1:h + 1, 1:w + 1];\n",
        "\n",
        "  # % ============= PART 5: SECOND PASS =======================================\n",
        "\n",
        "  # SECOND PASS - Relabel whole image\n",
        "  for row in range(h):\n",
        "      for col in range(w):\n",
        "          p = im[row, col];\n",
        "          if p in newhash:\n",
        "              im[row, col] = newhash[p];  # set proper label \n",
        "   \n",
        "  \n",
        "  count = len(np.unique(im)) - 1;  # zero is not a label so: minus 1\n",
        "  return count, im\n",
        "\n",
        "  # end"
      ],
      "metadata": {
        "id": "suIRaDyaqZMk"
      },
      "execution_count": 2,
      "outputs": []
    },
    {
      "cell_type": "code",
      "source": [
        "# Create a image\n",
        "img = np.zeros((5,5))\n",
        "img[0,4] = 255;\n",
        "\n",
        "img[1,1] = 255;\n",
        "img[2,0] = 255;\n",
        "\n",
        "img[2,3] = 255;\n",
        "img[2,4] = 255;\n",
        "img[3,3] = 255;\n",
        "img[4,3]= 255;\n",
        "img[4,1] = 255;\n",
        "img[4,2] = 255;\n",
        "img[4,3] = 255;"
      ],
      "metadata": {
        "id": "HZoSigwnffpf"
      },
      "execution_count": 3,
      "outputs": []
    },
    {
      "cell_type": "code",
      "source": [
        "plt.imshow(img, cmap='nipy_spectral')"
      ],
      "metadata": {
        "colab": {
          "base_uri": "https://localhost:8080/",
          "height": 283
        },
        "id": "-PkP5IxroPiE",
        "outputId": "89fc0be3-479b-49d1-83a0-c9a4c37a17a1"
      },
      "execution_count": 4,
      "outputs": [
        {
          "output_type": "execute_result",
          "data": {
            "text/plain": [
              "<matplotlib.image.AxesImage at 0x7fc1a522e160>"
            ]
          },
          "metadata": {},
          "execution_count": 4
        },
        {
          "output_type": "display_data",
          "data": {
            "text/plain": [
              "<Figure size 432x288 with 1 Axes>"
            ],
            "image/png": "[encoded data removed]"
          },
          "metadata": {
            "needs_background": "light"
          }
        }
      ]
    },
    {
      "cell_type": "code",
      "source": [
        "nBlobs, ims = countBlobs(img);\n",
        "print('NBlobs: ', nBlobs)\n",
        "plt.imshow(ims, cmap='nipy_spectral')"
      ],
      "metadata": {
        "id": "VnmdZKvw3YWW",
        "colab": {
          "base_uri": "https://localhost:8080/",
          "height": 319
        },
        "outputId": "8493aad9-b427-46e3-9b05-ac6b385ba74f"
      },
      "execution_count": 5,
      "outputs": [
        {
          "output_type": "stream",
          "name": "stdout",
          "text": [
            "test\n",
            "NBlobs:  3\n"
          ]
        },
        {
          "output_type": "execute_result",
          "data": {
            "text/plain": [
              "<matplotlib.image.AxesImage at 0x7fc1a4d6bf40>"
            ]
          },
          "metadata": {},
          "execution_count": 5
        },
        {
          "output_type": "display_data",
          "data": {
            "text/plain": [
              "<Figure size 432x288 with 1 Axes>"
            ],
            "image/png": "[encoded data removed]"
          },
          "metadata": {
            "needs_background": "light"
          }
        }
      ]
    }
  ]
}