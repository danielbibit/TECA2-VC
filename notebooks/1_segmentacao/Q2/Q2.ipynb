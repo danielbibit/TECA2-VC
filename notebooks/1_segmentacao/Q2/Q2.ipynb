{
 "cells": [
  {
   "cell_type": "markdown",
   "id": "db3bfe4c-1d8a-46d5-bc25-457b245c2da7",
   "metadata": {},
   "source": [
    "Questão 2"
   ]
  },
  {
   "cell_type": "code",
   "execution_count": 7,
   "id": "df7996c7-3ca1-4dee-ac54-b53112d1c7ee",
   "metadata": {},
   "outputs": [
    {
     "name": "stdout",
     "output_type": "stream",
     "text": [
      "Altura: 480 Largura: 640\n"
     ]
    }
   ],
   "source": [
    "import cv2 as cv\n",
    "import numpy as np\n",
    "from matplotlib import pyplot as plt\n",
    "\n",
    "img = cv.imread('yellowtargets.png',0)\n",
    "h,w = img.shape # Pega a altura e largura da imagem\n",
    "print(f\"Altura: {h} Largura: {w}\")"
   ]
  },
  {
   "cell_type": "code",
   "execution_count": null,
   "id": "da110a43-d716-4db8-a251-04d4fb6d2dd4",
   "metadata": {},
   "outputs": [],
   "source": []
  }
 ],
 "metadata": {
  "kernelspec": {
   "display_name": "Python 3 (ipykernel)",
   "language": "python",
   "name": "python3"
  },
  "language_info": {
   "codemirror_mode": {
    "name": "ipython",
    "version": 3
   },
   "file_extension": ".py",
   "mimetype": "text/x-python",
   "name": "python",
   "nbconvert_exporter": "python",
   "pygments_lexer": "ipython3",
   "version": "3.10.6"
  }
 },
 "nbformat": 4,
 "nbformat_minor": 5
}
