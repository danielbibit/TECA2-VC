{
 "cells": [
  {
   "cell_type": "markdown",
   "id": "db3bfe4c-1d8a-46d5-bc25-457b245c2da7",
   "metadata": {},
   "source": [
    "Questão 2"
   ]
  },
  {
   "cell_type": "code",
   "execution_count": 60,
   "id": "df7996c7-3ca1-4dee-ac54-b53112d1c7ee",
   "metadata": {},
   "outputs": [
    {
     "data": {
      "text/plain": [
       "(480, 640)"
      ]
     },
     "execution_count": 60,
     "metadata": {},
     "output_type": "execute_result"
    }
   ],
   "source": [
    "import cv2 as cv\n",
    "import numpy as np\n",
    "from sklearn.cluster import KMeans\n",
    "from matplotlib import pyplot as plt\n",
    "\n",
    "img = cv.imread('yellowtargets.png',0)\n",
    "# img = cv.cvtColor(img, cv.COLOR_BGR2RGB)\n",
    "img.shape"
   ]
  },
  {
   "cell_type": "code",
   "execution_count": 61,
   "id": "da110a43-d716-4db8-a251-04d4fb6d2dd4",
   "metadata": {},
   "outputs": [],
   "source": [
    "vectorized = img.reshape((-1,3))\n",
    "vectorized = np.float32(vectorized)"
   ]
  },
  {
   "cell_type": "code",
   "execution_count": 62,
   "id": "c963ee13-01eb-4164-b5c6-8e8145aa2f53",
   "metadata": {},
   "outputs": [
    {
     "data": {
      "image/png": "[encoded data removed]",
      "text/plain": [
       "<Figure size 640x480 with 1 Axes>"
      ]
     },
     "metadata": {},
     "output_type": "display_data"
    }
   ],
   "source": [
    "attempts = 10\n",
    "K = 2\n",
    "# Define criteria = ( type, max_iter = 10 , epsilon = 1.0 )\n",
    "criteria = (cv.TERM_CRITERIA_MAX_ITER, 10, 1.0)\n",
    "# criteria = (cv.TERM_CRITERIA_EPS + cv.TERM_CRITERIA_MAX_ITER, 10, 1.0)\n",
    "\n",
    "# ret, label, center = cv.kmeans(vectorized, K, None, criteria, attempts, cv.KMEANS_PP_CENTERS)\n",
    "\n",
    "kmeans = KMeans(n_clusters=2, random_state=0).fit(vectorized)\n",
    "ret = kmeans.predict(vectorized)\n",
    "label = kmeans.labels_\n",
    "center = kmeans.cluster_centers_\n",
    "\n",
    "center = np.uint8(center)\n",
    "\n",
    "res = center[label.flatten()]\n",
    "result_image = res.reshape((img.shape))\n",
    "\n",
    "plt.subplot(2, 2, 4)\n",
    "plt.imshow(result_image)\n",
    "plt.title('K = ' + str(K))\n",
    "plt.xticks([])\n",
    "plt.yticks([])\n",
    "plt.show()"
   ]
  },
  {
   "cell_type": "code",
   "execution_count": null,
   "id": "5907e596-5e7f-4286-a3a6-bc76768c4b5e",
   "metadata": {},
   "outputs": [],
   "source": []
  }
 ],
 "metadata": {
  "kernelspec": {
   "display_name": "Python 3 (ipykernel)",
   "language": "python",
   "name": "python3"
  },
  "language_info": {
   "codemirror_mode": {
    "name": "ipython",
    "version": 3
   },
   "file_extension": ".py",
   "mimetype": "text/x-python",
   "name": "python",
   "nbconvert_exporter": "python",
   "pygments_lexer": "ipython3",
   "version": "3.10.6"
  }
 },
 "nbformat": 4,
 "nbformat_minor": 5
}
