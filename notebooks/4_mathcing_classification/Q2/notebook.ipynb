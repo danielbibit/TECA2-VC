{
 "cells": [
  {
   "cell_type": "code",
   "execution_count": 13,
   "metadata": {},
   "outputs": [],
   "source": [
    "import tensorflow as tf\n",
    "import matplotlib.pyplot as plt\n",
    "from tensorflow.keras import layers, models, losses\n",
    "import time"
   ]
  },
  {
   "cell_type": "code",
   "execution_count": 14,
   "metadata": {},
   "outputs": [],
   "source": [
    "start_time = time.time()"
   ]
  },
  {
   "cell_type": "code",
   "execution_count": 15,
   "metadata": {},
   "outputs": [
    {
     "data": {
      "text/plain": [
       "(60000, 28, 28)"
      ]
     },
     "execution_count": 15,
     "metadata": {},
     "output_type": "execute_result"
    }
   ],
   "source": [
    "# Obtain mnist dataset, print example\n",
    "(x_train, y_train), (x_test, y_test) = tf.keras.datasets.mnist.load_data()\n",
    "plt.imshow(x_train[1997])\n",
    "x_train.shape"
   ]
  },
  {
   "cell_type": "code",
   "execution_count": 16,
   "metadata": {},
   "outputs": [
    {
     "data": {
      "text/plain": [
       "TensorShape([60000, 32, 32])"
      ]
     },
     "execution_count": 16,
     "metadata": {},
     "output_type": "execute_result"
    }
   ],
   "source": [
    "# Add padding to 8x8 image\n",
    "x_train = tf.pad(x_train, [[0, 0], [2,2], [2,2]])/255\n",
    "x_test = tf.pad(x_test, [[0, 0], [2,2], [2,2]])/255\n",
    "x_train.shape"
   ]
  },
  {
   "cell_type": "code",
   "execution_count": 17,
   "metadata": {},
   "outputs": [
    {
     "data": {
      "text/plain": [
       "TensorShape([60000, 32, 32, 1])"
      ]
     },
     "execution_count": 17,
     "metadata": {},
     "output_type": "execute_result"
    }
   ],
   "source": [
    "# Expand tensor dimension to 3\n",
    "x_train = tf.expand_dims(x_train, axis=3, name=None)\n",
    "x_test = tf.expand_dims(x_test, axis=3, name=None)\n",
    "x_train.shape"
   ]
  },
  {
   "cell_type": "code",
   "execution_count": 18,
   "metadata": {},
   "outputs": [],
   "source": [
    "# Remove last 2000 images from dataset, used only for validation\n",
    "x_val = x_train[-2000:, :, :, :]\n",
    "y_val = y_train[-2000:]\n",
    "x_train = x_train[:-2000, :, :, :]\n",
    "y_train = y_train[:-2000]\n"
   ]
  },
  {
   "cell_type": "code",
   "execution_count": 19,
   "metadata": {},
   "outputs": [],
   "source": [
    "model = models.Sequential()\n",
    "\n",
    "model.add(layers.Conv2D(6, 5, activation='tanh', input_shape=x_train.shape[1:]))\n",
    "\n",
    "model.add(layers.AveragePooling2D(2))\n",
    "\n",
    "model.add(layers.Activation('sigmoid'))\n",
    "\n",
    "model.add(layers.Conv2D(16, 5, activation='tanh'))\n",
    "\n",
    "model.add(layers.AveragePooling2D(2))\n",
    "\n",
    "model.add(layers.Activation('sigmoid'))\n",
    "\n",
    "model.add(layers.Conv2D(120, 5, activation='tanh'))\n",
    "\n",
    "model.add(layers.Flatten())\n",
    "\n",
    "model.add(layers.Dense(84, activation='tanh'))\n",
    "\n",
    "model.add(layers.Dense(10, activation='softmax'))"
   ]
  },
  {
   "cell_type": "code",
   "execution_count": 20,
   "metadata": {},
   "outputs": [
    {
     "name": "stdout",
     "output_type": "stream",
     "text": [
      "Epoch 1/30\n",
      "907/907 [==============================] - 5s 5ms/step - loss: 1.5420 - accuracy: 0.4369 - val_loss: 0.2975 - val_accuracy: 0.9245\n",
      "Epoch 2/30\n",
      "907/907 [==============================] - 4s 5ms/step - loss: 0.3644 - accuracy: 0.8866 - val_loss: 0.1976 - val_accuracy: 0.9485\n",
      "Epoch 3/30\n",
      "907/907 [==============================] - 4s 5ms/step - loss: 0.2724 - accuracy: 0.9136 - val_loss: 0.2090 - val_accuracy: 0.9385\n",
      "Epoch 4/30\n",
      "907/907 [==============================] - 5s 5ms/step - loss: 0.2305 - accuracy: 0.9275 - val_loss: 0.1196 - val_accuracy: 0.9655\n",
      "Epoch 5/30\n",
      "907/907 [==============================] - 4s 4ms/step - loss: 0.2069 - accuracy: 0.9340 - val_loss: 0.1172 - val_accuracy: 0.9700\n",
      "Epoch 6/30\n",
      "907/907 [==============================] - 4s 5ms/step - loss: 0.1840 - accuracy: 0.9412 - val_loss: 0.1293 - val_accuracy: 0.9630\n",
      "Epoch 7/30\n",
      "907/907 [==============================] - 4s 5ms/step - loss: 0.1682 - accuracy: 0.9461 - val_loss: 0.1030 - val_accuracy: 0.9740\n",
      "Epoch 8/30\n",
      "907/907 [==============================] - 4s 5ms/step - loss: 0.1586 - accuracy: 0.9485 - val_loss: 0.1243 - val_accuracy: 0.9610\n",
      "Epoch 9/30\n",
      "907/907 [==============================] - 4s 5ms/step - loss: 0.1499 - accuracy: 0.9521 - val_loss: 0.0929 - val_accuracy: 0.9750\n",
      "Epoch 10/30\n",
      "907/907 [==============================] - 4s 5ms/step - loss: 0.1397 - accuracy: 0.9553 - val_loss: 0.0813 - val_accuracy: 0.9790\n",
      "Epoch 11/30\n",
      "907/907 [==============================] - 5s 5ms/step - loss: 0.1338 - accuracy: 0.9573 - val_loss: 0.1009 - val_accuracy: 0.9690\n",
      "Epoch 12/30\n",
      "907/907 [==============================] - 4s 5ms/step - loss: 0.1255 - accuracy: 0.9597 - val_loss: 0.0785 - val_accuracy: 0.9825\n",
      "Epoch 13/30\n",
      "907/907 [==============================] - 4s 5ms/step - loss: 0.1230 - accuracy: 0.9604 - val_loss: 0.0787 - val_accuracy: 0.9790\n",
      "Epoch 14/30\n",
      "907/907 [==============================] - 4s 5ms/step - loss: 0.1171 - accuracy: 0.9624 - val_loss: 0.0739 - val_accuracy: 0.9815\n",
      "Epoch 15/30\n",
      "907/907 [==============================] - 4s 5ms/step - loss: 0.1092 - accuracy: 0.9646 - val_loss: 0.0831 - val_accuracy: 0.9780\n",
      "Epoch 16/30\n",
      "907/907 [==============================] - 4s 5ms/step - loss: 0.1098 - accuracy: 0.9653 - val_loss: 0.0907 - val_accuracy: 0.9765\n",
      "Epoch 17/30\n",
      "907/907 [==============================] - 4s 5ms/step - loss: 0.1049 - accuracy: 0.9662 - val_loss: 0.0704 - val_accuracy: 0.9810\n",
      "Epoch 18/30\n",
      "907/907 [==============================] - 4s 5ms/step - loss: 0.0990 - accuracy: 0.9684 - val_loss: 0.0653 - val_accuracy: 0.9855\n",
      "Epoch 19/30\n",
      "907/907 [==============================] - 4s 5ms/step - loss: 0.0972 - accuracy: 0.9688 - val_loss: 0.0860 - val_accuracy: 0.9745\n",
      "Epoch 20/30\n",
      "907/907 [==============================] - 4s 5ms/step - loss: 0.0930 - accuracy: 0.9700 - val_loss: 0.0993 - val_accuracy: 0.9745\n",
      "Epoch 21/30\n",
      "907/907 [==============================] - 4s 5ms/step - loss: 0.0918 - accuracy: 0.9705 - val_loss: 0.0742 - val_accuracy: 0.9800\n",
      "Epoch 22/30\n",
      "907/907 [==============================] - 4s 5ms/step - loss: 0.0903 - accuracy: 0.9713 - val_loss: 0.0990 - val_accuracy: 0.9710\n",
      "Epoch 23/30\n",
      "907/907 [==============================] - 4s 5ms/step - loss: 0.0867 - accuracy: 0.9722 - val_loss: 0.0655 - val_accuracy: 0.9835\n",
      "Epoch 24/30\n",
      "907/907 [==============================] - 4s 5ms/step - loss: 0.0838 - accuracy: 0.9735 - val_loss: 0.0798 - val_accuracy: 0.9810\n",
      "Epoch 25/30\n",
      "907/907 [==============================] - 4s 5ms/step - loss: 0.0827 - accuracy: 0.9736 - val_loss: 0.0682 - val_accuracy: 0.9810\n",
      "Epoch 26/30\n",
      "907/907 [==============================] - 4s 5ms/step - loss: 0.0813 - accuracy: 0.9741 - val_loss: 0.0707 - val_accuracy: 0.9800\n",
      "Epoch 27/30\n",
      "907/907 [==============================] - 5s 5ms/step - loss: 0.0803 - accuracy: 0.9750 - val_loss: 0.0661 - val_accuracy: 0.9820\n",
      "Epoch 28/30\n",
      "907/907 [==============================] - 5s 5ms/step - loss: 0.0761 - accuracy: 0.9754 - val_loss: 0.0622 - val_accuracy: 0.9875\n",
      "Epoch 29/30\n",
      "907/907 [==============================] - 4s 5ms/step - loss: 0.0761 - accuracy: 0.9751 - val_loss: 0.0661 - val_accuracy: 0.9840\n",
      "Epoch 30/30\n",
      "907/907 [==============================] - 5s 5ms/step - loss: 0.0750 - accuracy: 0.9765 - val_loss: 0.0782 - val_accuracy: 0.9780\n"
     ]
    }
   ],
   "source": [
    "model.compile(optimizer='adam', loss=losses.sparse_categorical_crossentropy, metrics=['accuracy'])\n",
    "\n",
    "history = model.fit(x_train, y_train, batch_size=64, epochs=30, validation_data=(x_val, y_val))"
   ]
  },
  {
   "cell_type": "code",
   "execution_count": 21,
   "metadata": {},
   "outputs": [
    {
     "data": {
      "text/plain": [
       "<matplotlib.legend.Legend at 0x7fef7bea3dc0>"
      ]
     },
     "execution_count": 21,
     "metadata": {},
     "output_type": "execute_result"
    }
   ],
   "source": [
    "fig, graph_axis = plt.subplots(2, 1, figsize=(10,10))\n",
    "\n",
    "graph_axis[0].plot(history.history['loss'])\n",
    "graph_axis[0].title.set_text('Error')\n",
    "\n",
    "graph_axis[1].plot(history.history['accuracy'])\n",
    "graph_axis[1].title.set_text('Acuracia')\n",
    "graph_axis[1].legend(['Train', 'Val'])"
   ]
  },
  {
   "cell_type": "code",
   "execution_count": 22,
   "metadata": {},
   "outputs": [],
   "source": [
    "model = models.Sequential()\n",
    "\n",
    "model.add(layers.Conv2D(6, 5, activation=tf.nn.gelu, input_shape=x_train.shape[1:]))\n",
    "\n",
    "model.add(layers.AveragePooling2D(2))\n",
    "\n",
    "model.add(layers.Activation('sigmoid'))\n",
    "\n",
    "model.add(layers.Conv2D(16, 5, activation=tf.nn.gelu))\n",
    "\n",
    "model.add(layers.AveragePooling2D(2))\n",
    "\n",
    "model.add(layers.Activation('sigmoid'))\n",
    "\n",
    "model.add(layers.Conv2D(120, 5, activation=tf.nn.gelu))\n",
    "\n",
    "model.add(layers.Flatten())\n",
    "\n",
    "model.add(layers.Dense(84, activation=tf.nn.gelu))\n",
    "\n",
    "model.add(layers.Dense(10, activation='softmax'))"
   ]
  },
  {
   "cell_type": "code",
   "execution_count": 23,
   "metadata": {},
   "outputs": [
    {
     "name": "stdout",
     "output_type": "stream",
     "text": [
      "Epoch 1/30\n",
      "907/907 [==============================] - 7s 6ms/step - loss: 2.0974 - accuracy: 0.2018 - val_loss: 0.9406 - val_accuracy: 0.7050\n",
      "Epoch 2/30\n",
      "907/907 [==============================] - 5s 5ms/step - loss: 0.6896 - accuracy: 0.7722 - val_loss: 0.4454 - val_accuracy: 0.8690\n",
      "Epoch 3/30\n",
      "907/907 [==============================] - 5s 6ms/step - loss: 0.3893 - accuracy: 0.8797 - val_loss: 0.2141 - val_accuracy: 0.9435\n",
      "Epoch 4/30\n",
      "907/907 [==============================] - 5s 5ms/step - loss: 0.2741 - accuracy: 0.9169 - val_loss: 0.1733 - val_accuracy: 0.9505\n",
      "Epoch 5/30\n",
      "907/907 [==============================] - 5s 5ms/step - loss: 0.2127 - accuracy: 0.9349 - val_loss: 0.1492 - val_accuracy: 0.9585\n",
      "Epoch 6/30\n",
      "907/907 [==============================] - 5s 5ms/step - loss: 0.1732 - accuracy: 0.9459 - val_loss: 0.1132 - val_accuracy: 0.9690\n",
      "Epoch 7/30\n",
      "907/907 [==============================] - 5s 6ms/step - loss: 0.1542 - accuracy: 0.9519 - val_loss: 0.1073 - val_accuracy: 0.9715\n",
      "Epoch 8/30\n",
      "907/907 [==============================] - 5s 5ms/step - loss: 0.1342 - accuracy: 0.9582 - val_loss: 0.0942 - val_accuracy: 0.9775\n",
      "Epoch 9/30\n",
      "907/907 [==============================] - 5s 6ms/step - loss: 0.1255 - accuracy: 0.9606 - val_loss: 0.1118 - val_accuracy: 0.9670\n",
      "Epoch 10/30\n",
      "907/907 [==============================] - 5s 5ms/step - loss: 0.1127 - accuracy: 0.9650 - val_loss: 0.0767 - val_accuracy: 0.9805\n",
      "Epoch 11/30\n",
      "907/907 [==============================] - 5s 5ms/step - loss: 0.1088 - accuracy: 0.9658 - val_loss: 0.1054 - val_accuracy: 0.9725\n",
      "Epoch 12/30\n",
      "907/907 [==============================] - 5s 5ms/step - loss: 0.0993 - accuracy: 0.9690 - val_loss: 0.0802 - val_accuracy: 0.9780\n",
      "Epoch 13/30\n",
      "907/907 [==============================] - 5s 5ms/step - loss: 0.0964 - accuracy: 0.9695 - val_loss: 0.0699 - val_accuracy: 0.9815\n",
      "Epoch 14/30\n",
      "907/907 [==============================] - 5s 6ms/step - loss: 0.0920 - accuracy: 0.9703 - val_loss: 0.0720 - val_accuracy: 0.9800\n",
      "Epoch 15/30\n",
      "907/907 [==============================] - 5s 6ms/step - loss: 0.0885 - accuracy: 0.9722 - val_loss: 0.0793 - val_accuracy: 0.9800\n",
      "Epoch 16/30\n",
      "907/907 [==============================] - 5s 6ms/step - loss: 0.0828 - accuracy: 0.9735 - val_loss: 0.0612 - val_accuracy: 0.9840\n",
      "Epoch 17/30\n",
      "907/907 [==============================] - 5s 6ms/step - loss: 0.0797 - accuracy: 0.9743 - val_loss: 0.0691 - val_accuracy: 0.9860\n",
      "Epoch 18/30\n",
      "907/907 [==============================] - 5s 5ms/step - loss: 0.0802 - accuracy: 0.9741 - val_loss: 0.0669 - val_accuracy: 0.9815\n",
      "Epoch 19/30\n",
      "907/907 [==============================] - 5s 6ms/step - loss: 0.0751 - accuracy: 0.9765 - val_loss: 0.0790 - val_accuracy: 0.9810\n",
      "Epoch 20/30\n",
      "907/907 [==============================] - 6s 6ms/step - loss: 0.0738 - accuracy: 0.9766 - val_loss: 0.0608 - val_accuracy: 0.9845\n",
      "Epoch 21/30\n",
      "907/907 [==============================] - 5s 6ms/step - loss: 0.0713 - accuracy: 0.9772 - val_loss: 0.0609 - val_accuracy: 0.9845\n",
      "Epoch 22/30\n",
      "907/907 [==============================] - 5s 6ms/step - loss: 0.0721 - accuracy: 0.9769 - val_loss: 0.0630 - val_accuracy: 0.9835\n",
      "Epoch 23/30\n",
      "907/907 [==============================] - 5s 6ms/step - loss: 0.0680 - accuracy: 0.9787 - val_loss: 0.0654 - val_accuracy: 0.9765\n",
      "Epoch 24/30\n",
      "907/907 [==============================] - 5s 6ms/step - loss: 0.0653 - accuracy: 0.9789 - val_loss: 0.0470 - val_accuracy: 0.9875\n",
      "Epoch 25/30\n",
      "907/907 [==============================] - 5s 6ms/step - loss: 0.0668 - accuracy: 0.9784 - val_loss: 0.0472 - val_accuracy: 0.9900\n",
      "Epoch 26/30\n",
      "907/907 [==============================] - 5s 6ms/step - loss: 0.0644 - accuracy: 0.9795 - val_loss: 0.0600 - val_accuracy: 0.9835\n",
      "Epoch 27/30\n",
      "907/907 [==============================] - 5s 6ms/step - loss: 0.0640 - accuracy: 0.9790 - val_loss: 0.0666 - val_accuracy: 0.9810\n",
      "Epoch 28/30\n",
      "907/907 [==============================] - 5s 6ms/step - loss: 0.0628 - accuracy: 0.9801 - val_loss: 0.0542 - val_accuracy: 0.9875\n",
      "Epoch 29/30\n",
      "907/907 [==============================] - 5s 6ms/step - loss: 0.0600 - accuracy: 0.9803 - val_loss: 0.0449 - val_accuracy: 0.9895\n",
      "Epoch 30/30\n",
      "907/907 [==============================] - 5s 6ms/step - loss: 0.0600 - accuracy: 0.9808 - val_loss: 0.0574 - val_accuracy: 0.9865\n"
     ]
    }
   ],
   "source": [
    "model.compile(optimizer='adam', loss=losses.sparse_categorical_crossentropy, metrics=['accuracy'])\n",
    "\n",
    "history = model.fit(x_train, y_train, batch_size=64, epochs=30, validation_data=(x_val, y_val))"
   ]
  },
  {
   "cell_type": "code",
   "execution_count": 24,
   "metadata": {},
   "outputs": [
    {
     "data": {
      "text/plain": [
       "<matplotlib.legend.Legend at 0x7ff02390cf10>"
      ]
     },
     "execution_count": 24,
     "metadata": {},
     "output_type": "execute_result"
    }
   ],
   "source": [
    "fig, graph_axis = plt.subplots(2, 1, figsize=(10,10))\n",
    "\n",
    "graph_axis[0].plot(history.history['loss'])\n",
    "graph_axis[0].title.set_text('Error - GELU')\n",
    "\n",
    "graph_axis[1].plot(history.history['accuracy'])\n",
    "graph_axis[1].title.set_text('Acuracia - GELU')\n",
    "graph_axis[1].legend(['Train', 'Val'])"
   ]
  },
  {
   "cell_type": "code",
   "execution_count": 25,
   "metadata": {},
   "outputs": [
    {
     "name": "stdout",
     "output_type": "stream",
     "text": [
      "Total time:  288.4316051006317\n"
     ]
    }
   ],
   "source": [
    "end_time = time.time()\n",
    "\n",
    "total_time = end_time - start_time\n",
    "\n",
    "print(\"Total time: \", total_time)"
   ]
  }
 ],
 "metadata": {
  "kernelspec": {
   "display_name": "Python 3",
   "language": "python",
   "name": "python3"
  },
  "language_info": {
   "codemirror_mode": {
    "name": "ipython",
    "version": 3
   },
   "file_extension": ".py",
   "mimetype": "text/x-python",
   "name": "python",
   "nbconvert_exporter": "python",
   "pygments_lexer": "ipython3",
   "version": "3.8.10"
  },
  "orig_nbformat": 4,
  "vscode": {
   "interpreter": {
    "hash": "d4d1e4263499bec80672ea0156c357c1ee493ec2b1c70f0acce89fc37c4a6abe"
   }
  }
 },
 "nbformat": 4,
 "nbformat_minor": 2
}
